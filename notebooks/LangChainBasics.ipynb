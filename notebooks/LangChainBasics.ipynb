{
 "cells": [
  {
   "cell_type": "markdown",
   "metadata": {},
   "source": [
    "# LangChain Playground ⛓️🦜\n",
    "The following are based on LangChain's Documentation"
   ]
  },
  {
   "cell_type": "code",
   "execution_count": 1,
   "metadata": {},
   "outputs": [],
   "source": [
    "import os\n",
    "from dotenv import dotenv_values"
   ]
  },
  {
   "cell_type": "code",
   "execution_count": 2,
   "metadata": {},
   "outputs": [],
   "source": [
    "os.environ['OPENAI_API_KEY'] = dotenv_values('../.env')['OPENAI_API_KEY']"
   ]
  },
  {
   "cell_type": "markdown",
   "metadata": {},
   "source": [
    "## LangChain Components\n",
    "### Schema\n",
    "The basic data types and schemas that are used throughout the codebase."
   ]
  },
  {
   "cell_type": "markdown",
   "metadata": {},
   "source": [
    "#### Text\n",
    "Strings are used to interact with language models."
   ]
  },
  {
   "cell_type": "code",
   "execution_count": 3,
   "metadata": {},
   "outputs": [],
   "source": [
    "# sample text\n",
    "my_text = \"What time is it?\""
   ]
  },
  {
   "cell_type": "markdown",
   "metadata": {},
   "source": [
    "#### Chat Messages\n",
    "Some models uses a chat interface. Similar to text but with specified type(System, Human, AI)\n",
    " - **System** - A helpful background context that tell th AI what to do\n",
    " - **Human** - Represents the message coming from a human\n",
    " - **AI** - Message that shows what the AI responded with"
   ]
  },
  {
   "cell_type": "code",
   "execution_count": 4,
   "metadata": {},
   "outputs": [],
   "source": [
    "from langchain.chat_models import ChatOpenAI\n",
    "from langchain.schema import HumanMessage, SystemMessage, AIMessage\n",
    "\n",
    "chat = ChatOpenAI(temperature=0.7)"
   ]
  },
  {
   "cell_type": "code",
   "execution_count": 5,
   "metadata": {},
   "outputs": [
    {
     "data": {
      "text/plain": [
       "AIMessage(content=\"For steamed fish, you'll want a wine that complements the delicate flavors of the dish without overpowering it. Here are a few options:\\n\\n1. Sauvignon Blanc: This white wine has crisp acidity and herbaceous flavors that pair well with the lightness of steamed fish. Look for one from New Zealand or the Loire Valley in France.\\n\\n2. Chardonnay: Choose an unoaked or lightly oaked Chardonnay to avoid overwhelming the fish. The wine's fruity and citrusy notes can enhance the flavors of the dish.\\n\\n3. Pinot Grigio/Pinot Gris: This white wine has a clean and refreshing character that pairs nicely with steamed fish. It offers subtle flavors of apple, pear, and citrus, which can complement the dish.\\n\\n4. Riesling: If you prefer a touch of sweetness, an off-dry Riesling can be an excellent pairing. Its acidity and fruity notes balance well with the fish's flavors.\\n\\nRemember, personal taste plays a significant role in wine pairing. Feel free to experiment and trust your palate to find the perfect match for your steamed fish.\", additional_kwargs={}, example=False)"
      ]
     },
     "execution_count": 5,
     "metadata": {},
     "output_type": "execute_result"
    }
   ],
   "source": [
    "chat(\n",
    "  [\n",
    "    SystemMessage(content=\"You are a nice AI that helps a user figure out the wine that matches their food.\"),\n",
    "    HumanMessage(content=\"I'm eating steamed fish, what should I drink?\")\n",
    "  ]\n",
    ")"
   ]
  },
  {
   "cell_type": "markdown",
   "metadata": {},
   "source": [
    "You can also pass more chat history w/ responses from the AI"
   ]
  },
  {
   "cell_type": "code",
   "execution_count": 7,
   "metadata": {},
   "outputs": [
    {
     "data": {
      "text/plain": [
       "AIMessage(content=\"When you visit Akihabara, there are several things you can do as an anime fan:\\n\\n1. Explore Anime and Manga Stores: Akihabara is known for its numerous anime and manga stores. Visit places like Mandarake, Animate, and Gamers to find a wide range of merchandise, including DVDs, manga books, figurines, and cosplay accessories.\\n\\n2. Maid Cafes: Experience the unique phenomenon of maid cafes, where you can enjoy food and drinks served by waitresses dressed in maid costumes. It's a popular experience in Akihabara and a must-try for anime enthusiasts.\\n\\n3. Visit Themed Cafes: Akihabara is home to various themed cafes inspired by popular anime and manga series. You can find cafes dedicated to characters like Gundam, Pokemon, and even virtual idols like Hatsune Miku. Enjoy themed food, drinks, and sometimes interactive performances.\\n\\n4. Gaming Arcades: Akihabara is also famous for its gaming arcades. You'll find a variety of arcade games, including fighting games, rhythm games, and even virtual reality experiences. Challenge yourself or compete with fellow gamers.\\n\\n5. Attend Anime Events: Check if there are any anime events or conventions happening during your visit. Akihabara often hosts such events where you can meet voice actors, participate in cosplay contests, and purchase exclusive merchandise.\\n\\n6. Cosplay Shopping: If you're into cosplay, Akihabara is the perfect place to find costumes, accessories, and props. Explore dedicated cosplay stores like ACOS and Cospa to fulfill your cosplay needs.\\n\\n7. Visit Anime-themed Attractions: Akihabara occasionally features temporary anime-themed attractions, such as pop-up cafes or exhibition spaces. Keep an eye out for any special events happening during your visit.\\n\\nRemember to also explore the rest of Tokyo, as it offers a vibrant mix of modern and traditional attractions, shopping districts, and delicious cuisine.\", additional_kwargs={}, example=False)"
      ]
     },
     "execution_count": 7,
     "metadata": {},
     "output_type": "execute_result"
    }
   ],
   "source": [
    "chat(\n",
    "  [\n",
    "    SystemMessage(content=\"You are a nice AI that helps a user figure out where to travel and what to do there.\"),\n",
    "    HumanMessage(content=\"I like anime where should I go?\"),\n",
    "    AIMessage(content=\"You should go to Akihabara, Japan\"),\n",
    "    HumanMessage(content=\"What can I do when I'm there?\")\n",
    "  ]\n",
    ")"
   ]
  },
  {
   "cell_type": "markdown",
   "metadata": {},
   "source": [
    "#### Documents\n",
    "An object that holds a piece of text and metadata(more info about the text)"
   ]
  },
  {
   "cell_type": "code",
   "execution_count": 8,
   "metadata": {},
   "outputs": [],
   "source": [
    "from langchain.schema import Document"
   ]
  },
  {
   "cell_type": "code",
   "execution_count": 9,
   "metadata": {},
   "outputs": [
    {
     "data": {
      "text/plain": [
       "Document(page_content='This is my document. It contains text from LangChain Documentation.', metadata={'my_document_id': 1234, 'my_document_source': 'The LangChain Papers', 'my_document_create_time': 1680013019})"
      ]
     },
     "execution_count": 9,
     "metadata": {},
     "output_type": "execute_result"
    }
   ],
   "source": [
    "Document(page_content=\"This is my document. It contains text from LangChain Documentation.\",\n",
    "        metadata={\n",
    "          'my_document_id': 1234,\n",
    "          'my_document_source': 'The LangChain Papers',\n",
    "          'my_document_create_time': 1680013019\n",
    "        })"
   ]
  },
  {
   "cell_type": "code",
   "execution_count": null,
   "metadata": {},
   "outputs": [],
   "source": []
  }
 ],
 "metadata": {
  "kernelspec": {
   "display_name": "privateGpt",
   "language": "python",
   "name": "python3"
  },
  "language_info": {
   "codemirror_mode": {
    "name": "ipython",
    "version": 3
   },
   "file_extension": ".py",
   "mimetype": "text/x-python",
   "name": "python",
   "nbconvert_exporter": "python",
   "pygments_lexer": "ipython3",
   "version": "3.10.12"
  },
  "orig_nbformat": 4
 },
 "nbformat": 4,
 "nbformat_minor": 2
}
